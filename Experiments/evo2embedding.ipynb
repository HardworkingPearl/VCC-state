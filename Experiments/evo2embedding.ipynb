{
  "cells": [
    {
      "cell_type": "code",
      "execution_count": 18,
      "id": "a948cac7",
      "metadata": {
        "vscode": {
          "languageId": "shellscript"
        },
        "id": "a948cac7",
        "outputId": "3d6013c5-0a13-4617-dea8-84275e2b8837",
        "colab": {
          "base_uri": "https://localhost:8080/"
        }
      },
      "outputs": [
        {
          "output_type": "stream",
          "name": "stdout",
          "text": [
            "Cloning into 'state'...\n",
            "remote: Enumerating objects: 8428, done.\u001b[K\n",
            "remote: Counting objects: 100% (1833/1833), done.\u001b[K\n",
            "remote: Compressing objects: 100% (380/380), done.\u001b[K\n",
            "remote: Total 8428 (delta 1638), reused 1453 (delta 1453), pack-reused 6595 (from 2)\u001b[K\n",
            "Receiving objects: 100% (8428/8428), 126.02 MiB | 23.41 MiB/s, done.\n",
            "Resolving deltas: 100% (5274/5274), done.\n",
            "/content/VCC-state/state/state\n"
          ]
        }
      ],
      "source": [
        "! git clone https://github.com/ArcInstitute/state.git\n",
        "%cd state\n",
        "\n",
        "# Colab-specific config for pytorch lightning\n",
        "import os\n",
        "os.environ['MPLBACKEND'] = 'Agg'"
      ]
    },
    {
      "cell_type": "code",
      "source": [
        "!ls"
      ],
      "metadata": {
        "id": "AIbCsRO3_olg",
        "outputId": "ea6f2ddf-e35d-40b1-9a6c-b34fb7c77add",
        "colab": {
          "base_uri": "https://localhost:8080/"
        }
      },
      "id": "AIbCsRO3_olg",
      "execution_count": 22,
      "outputs": [
        {
          "output_type": "stream",
          "name": "stdout",
          "text": [
            "assets\t  MODEL_ACCEPTABLE_USE_POLICY.md  README.md  singularity.def\n",
            "examples  MODEL_LICENSE.md\t\t  ruff.toml  src\n",
            "LICENSE   pyproject.toml\t\t  scripts    tests\n"
          ]
        }
      ]
    },
    {
      "cell_type": "code",
      "execution_count": 2,
      "id": "f91677bb",
      "metadata": {
        "id": "f91677bb",
        "outputId": "19494c50-ad5f-4d93-d96f-2992fd46fdeb",
        "colab": {
          "base_uri": "https://localhost:8080/",
          "height": 86,
          "referenced_widgets": [
            "05f0f728e54042e2a551b0e860f3cfe7",
            "d56381c6b4ba45f0bb82a2d7f6484ec7",
            "2bd05f84050b4e90ab20fa02b8b5e973",
            "4a3b38097c3a42c6a7dc90f7fc52dd57",
            "2642255137c24c4dbd3917791a21dda8",
            "84b0f8083f3246acbd20aa8c8f9a863a",
            "d567c1d0b71e486887b25cf91b6a6d89",
            "997b748767b64d0f9a182fb52fd68371",
            "b60a44e0e5564d6996c48751b5f0127f",
            "73047da2c43e44ebb04a175053c162d2",
            "22d3e770021a470d9947ce9f36ffa1f7"
          ]
        }
      },
      "outputs": [
        {
          "output_type": "stream",
          "name": "stdout",
          "text": [
            "Mounted at /content/drive\n",
            "Requirement already satisfied: tqdm in /usr/local/lib/python3.12/dist-packages (4.67.1)\n"
          ]
        },
        {
          "output_type": "display_data",
          "data": {
            "text/plain": [
              "Unzipping:   0%|          | 0/10 [00:00<?, ?file/s]"
            ],
            "application/vnd.jupyter.widget-view+json": {
              "version_major": 2,
              "version_minor": 0,
              "model_id": "05f0f728e54042e2a551b0e860f3cfe7"
            }
          },
          "metadata": {}
        }
      ],
      "source": [
        "from google.colab import drive\n",
        "drive.mount('/content/drive')\n",
        "\n",
        "%pip install tqdm\n",
        "\n",
        "from tqdm.auto import tqdm  # picks the best bar for the environment\n",
        "\n",
        "output_path = \"/content/drive/MyDrive/VCC/datasets/competition_support_set.zip\"\n",
        "\n",
        "from zipfile import ZipFile\n",
        "from tqdm.auto import tqdm\n",
        "\n",
        "out_dir  = \"competition_support_set\"\n",
        "\n",
        "os.makedirs(out_dir, exist_ok=True)\n",
        "\n",
        "with ZipFile(output_path, 'r') as z:\n",
        "    for member in tqdm(z.infolist(), desc=\"Unzipping\", unit=\"file\"):\n",
        "        z.extract(member, out_dir)\n",
        "\n",
        "!ls competition_support_set"
      ]
    },
    {
      "cell_type": "code",
      "source": [
        "!ls competition_support_set"
      ],
      "metadata": {
        "id": "-RvGppc89rCm",
        "outputId": "b284b7f0-a1d4-4ae7-d42d-6a34c0af8558",
        "colab": {
          "base_uri": "https://localhost:8080/"
        }
      },
      "id": "-RvGppc89rCm",
      "execution_count": 11,
      "outputs": [
        {
          "output_type": "stream",
          "name": "stdout",
          "text": [
            "competition_train.h5\t       gene_names.csv  k562_gwps.h5  starter.toml\n",
            "competition_val_template.h5ad  hepg2.h5        k562.h5\n",
            "ESM2_pert_features.pt\t       jurkat.h5       rpe1.h5\n"
          ]
        }
      ]
    },
    {
      "cell_type": "code",
      "source": [
        "entity = \"arcinstitute\" # @param {\"type\":\"string\",\"placeholder\":\"arcinstitute\"}\n",
        "! sed -i 's|entity: your_entity_name|entity: {entity}|g' VCC-state/state/src/state/configs/wandb/default.yaml"
      ],
      "metadata": {
        "id": "1XysEFA47_zK",
        "outputId": "ed1ef15a-25d9-4a0b-f8ef-f9eeb31fcc13",
        "colab": {
          "base_uri": "https://localhost:8080/"
        }
      },
      "id": "1XysEFA47_zK",
      "execution_count": 12,
      "outputs": [
        {
          "output_type": "stream",
          "name": "stdout",
          "text": [
            "sed: can't read VCC-state/state/src/state/configs/wandb/default.yaml: No such file or directory\n"
          ]
        }
      ]
    },
    {
      "cell_type": "code",
      "source": [
        "! uv run state --help"
      ],
      "metadata": {
        "id": "P5yzPB_U8D1M",
        "outputId": "1eabc425-0605-4c4e-f801-b3cad883d1df",
        "colab": {
          "base_uri": "https://localhost:8080/"
        }
      },
      "id": "P5yzPB_U8D1M",
      "execution_count": 4,
      "outputs": [
        {
          "output_type": "stream",
          "name": "stdout",
          "text": [
            "Using CPython \u001b[36m3.11.14\u001b[39m\n",
            "Creating virtual environment at: \u001b[36m.venv\u001b[39m\n",
            "\u001b[2K\u001b[2mInstalled \u001b[1m152 packages\u001b[0m \u001b[2min 1.91s\u001b[0m\u001b[0m\n",
            "usage: state [-h] {emb,tx} ...\n",
            "\n",
            "positional arguments:\n",
            "  {emb,tx}\n",
            "\n",
            "options:\n",
            "  -h, --help  show this help message and exit\n"
          ]
        }
      ]
    },
    {
      "cell_type": "code",
      "source": [
        "! uv run state tx train \\\n",
        "  data.kwargs.toml_config_path=\"competition_support_set/starter.toml\" \\\n",
        "  data.kwargs.num_workers=8 \\\n",
        "  data.kwargs.batch_col=\"batch_var\" \\\n",
        "  data.kwargs.pert_col=\"target_gene\" \\\n",
        "  data.kwargs.cell_type_key=\"cell_type\" \\\n",
        "  data.kwargs.control_pert=\"non-targeting\" \\\n",
        "  data.kwargs.perturbation_features_file=\"competition_support_set/ESM2_pert_features.pt\" \\\n",
        "  training.max_steps=20 \\\n",
        "  training.ckpt_every_n_steps=10 \\\n",
        "  model=state_sm \\\n",
        "  wandb.tags=\"[small_run]\" \\\n",
        "  wandb.project=vcc \\\n",
        "  wandb.entity=arcinstitute \\\n",
        "  output_dir=\"competition\" \\\n",
        "  name=\"small_run\""
      ],
      "metadata": {
        "id": "lGb8RT6M8FgD",
        "outputId": "d1335d36-c989-484b-b135-5ff02c4db8c6",
        "colab": {
          "base_uri": "https://localhost:8080/"
        }
      },
      "id": "lGb8RT6M8FgD",
      "execution_count": 7,
      "outputs": [
        {
          "output_type": "stream",
          "name": "stdout",
          "text": [
            "Traceback (most recent call last):\n",
            "  File \"/content/VCC-state/state/.venv/bin/state\", line 10, in <module>\n",
            "    sys.exit(main())\n",
            "             ^^^^^^\n",
            "  File \"/content/VCC-state/state/src/state/__main__.py\", line 120, in main\n",
            "    cfg = load_hydra_config(\"tx\", args.hydra_overrides)\n",
            "          ^^^^^^^^^^^^^^^^^^^^^^^^^^^^^^^^^^^^^^^^^^^^^\n",
            "  File \"/content/VCC-state/state/src/state/__main__.py\", line 45, in load_hydra_config\n",
            "    cfg = compose(config_name=\"config\", overrides=overrides)\n",
            "          ^^^^^^^^^^^^^^^^^^^^^^^^^^^^^^^^^^^^^^^^^^^^^^^^^^\n",
            "  File \"/content/VCC-state/state/.venv/lib/python3.11/site-packages/hydra/compose.py\", line 38, in compose\n",
            "    cfg = gh.hydra.compose_config(\n",
            "          ^^^^^^^^^^^^^^^^^^^^^^^^\n",
            "  File \"/content/VCC-state/state/.venv/lib/python3.11/site-packages/hydra/_internal/hydra.py\", line 594, in compose_config\n",
            "    cfg = self.config_loader.load_configuration(\n",
            "          ^^^^^^^^^^^^^^^^^^^^^^^^^^^^^^^^^^^^^^\n",
            "  File \"/content/VCC-state/state/.venv/lib/python3.11/site-packages/hydra/_internal/config_loader_impl.py\", line 142, in load_configuration\n",
            "    return self._load_configuration_impl(\n",
            "           ^^^^^^^^^^^^^^^^^^^^^^^^^^^^^^\n",
            "  File \"/content/VCC-state/state/.venv/lib/python3.11/site-packages/hydra/_internal/config_loader_impl.py\", line 253, in _load_configuration_impl\n",
            "    defaults_list = create_defaults_list(\n",
            "                    ^^^^^^^^^^^^^^^^^^^^^\n",
            "  File \"/content/VCC-state/state/.venv/lib/python3.11/site-packages/hydra/_internal/defaults_list.py\", line 745, in create_defaults_list\n",
            "    defaults, tree = _create_defaults_list(\n",
            "                     ^^^^^^^^^^^^^^^^^^^^^^\n",
            "  File \"/content/VCC-state/state/.venv/lib/python3.11/site-packages/hydra/_internal/defaults_list.py\", line 715, in _create_defaults_list\n",
            "    defaults_tree = _create_defaults_tree(\n",
            "                    ^^^^^^^^^^^^^^^^^^^^^^\n",
            "  File \"/content/VCC-state/state/.venv/lib/python3.11/site-packages/hydra/_internal/defaults_list.py\", line 356, in _create_defaults_tree\n",
            "    ret = _create_defaults_tree_impl(\n",
            "          ^^^^^^^^^^^^^^^^^^^^^^^^^^^\n",
            "  File \"/content/VCC-state/state/.venv/lib/python3.11/site-packages/hydra/_internal/defaults_list.py\", line 457, in _create_defaults_tree_impl\n",
            "    return _expand_virtual_root(repo, root, overrides, skip_missing)\n",
            "           ^^^^^^^^^^^^^^^^^^^^^^^^^^^^^^^^^^^^^^^^^^^^^^^^^^^^^^^^^\n",
            "  File \"/content/VCC-state/state/.venv/lib/python3.11/site-packages/hydra/_internal/defaults_list.py\", line 280, in _expand_virtual_root\n",
            "    subtree = _create_defaults_tree_impl(\n",
            "              ^^^^^^^^^^^^^^^^^^^^^^^^^^^\n",
            "  File \"/content/VCC-state/state/.venv/lib/python3.11/site-packages/hydra/_internal/defaults_list.py\", line 573, in _create_defaults_tree_impl\n",
            "    add_child(children, new_root)\n",
            "  File \"/content/VCC-state/state/.venv/lib/python3.11/site-packages/hydra/_internal/defaults_list.py\", line 520, in add_child\n",
            "    subtree_ = _create_defaults_tree_impl(\n",
            "               ^^^^^^^^^^^^^^^^^^^^^^^^^^^\n",
            "  File \"/content/VCC-state/state/.venv/lib/python3.11/site-packages/hydra/_internal/defaults_list.py\", line 488, in _create_defaults_tree_impl\n",
            "    config_not_found_error(repo=repo, tree=root)\n",
            "  File \"/content/VCC-state/state/.venv/lib/python3.11/site-packages/hydra/_internal/defaults_list.py\", line 799, in config_not_found_error\n",
            "    raise MissingConfigException(\n",
            "hydra.errors.MissingConfigException: In 'config': Could not find 'wandb/default'\n",
            "\n",
            "Config search path:\n",
            "\tprovider=hydra, path=pkg://hydra.conf\n",
            "\tprovider=main, path=file:///content/VCC-state/state/src/state/configs\n",
            "\tprovider=schema, path=structured://\n"
          ]
        }
      ]
    },
    {
      "cell_type": "code",
      "source": [
        "!ls src/state/configs/wandb"
      ],
      "metadata": {
        "id": "M5IsvsR2-CHi",
        "outputId": "a34a0a31-50ac-4b75-daed-4aa3f9eefaf3",
        "colab": {
          "base_uri": "https://localhost:8080/"
        }
      },
      "id": "M5IsvsR2-CHi",
      "execution_count": 17,
      "outputs": [
        {
          "output_type": "stream",
          "name": "stdout",
          "text": [
            "config.yaml  data  __init__.py\tmodel  state-defaults.yaml  training\n"
          ]
        }
      ]
    }
  ],
  "metadata": {
    "language_info": {
      "name": "python"
    },
    "colab": {
      "provenance": []
    },
    "kernelspec": {
      "name": "python3",
      "display_name": "Python 3"
    },
    "widgets": {
      "application/vnd.jupyter.widget-state+json": {
        "05f0f728e54042e2a551b0e860f3cfe7": {
          "model_module": "@jupyter-widgets/controls",
          "model_name": "HBoxModel",
          "model_module_version": "1.5.0",
          "state": {
            "_dom_classes": [],
            "_model_module": "@jupyter-widgets/controls",
            "_model_module_version": "1.5.0",
            "_model_name": "HBoxModel",
            "_view_count": null,
            "_view_module": "@jupyter-widgets/controls",
            "_view_module_version": "1.5.0",
            "_view_name": "HBoxView",
            "box_style": "",
            "children": [
              "IPY_MODEL_d56381c6b4ba45f0bb82a2d7f6484ec7",
              "IPY_MODEL_2bd05f84050b4e90ab20fa02b8b5e973",
              "IPY_MODEL_4a3b38097c3a42c6a7dc90f7fc52dd57"
            ],
            "layout": "IPY_MODEL_2642255137c24c4dbd3917791a21dda8"
          }
        },
        "d56381c6b4ba45f0bb82a2d7f6484ec7": {
          "model_module": "@jupyter-widgets/controls",
          "model_name": "HTMLModel",
          "model_module_version": "1.5.0",
          "state": {
            "_dom_classes": [],
            "_model_module": "@jupyter-widgets/controls",
            "_model_module_version": "1.5.0",
            "_model_name": "HTMLModel",
            "_view_count": null,
            "_view_module": "@jupyter-widgets/controls",
            "_view_module_version": "1.5.0",
            "_view_name": "HTMLView",
            "description": "",
            "description_tooltip": null,
            "layout": "IPY_MODEL_84b0f8083f3246acbd20aa8c8f9a863a",
            "placeholder": "​",
            "style": "IPY_MODEL_d567c1d0b71e486887b25cf91b6a6d89",
            "value": "Unzipping: 100%"
          }
        },
        "2bd05f84050b4e90ab20fa02b8b5e973": {
          "model_module": "@jupyter-widgets/controls",
          "model_name": "FloatProgressModel",
          "model_module_version": "1.5.0",
          "state": {
            "_dom_classes": [],
            "_model_module": "@jupyter-widgets/controls",
            "_model_module_version": "1.5.0",
            "_model_name": "FloatProgressModel",
            "_view_count": null,
            "_view_module": "@jupyter-widgets/controls",
            "_view_module_version": "1.5.0",
            "_view_name": "ProgressView",
            "bar_style": "success",
            "description": "",
            "description_tooltip": null,
            "layout": "IPY_MODEL_997b748767b64d0f9a182fb52fd68371",
            "max": 10,
            "min": 0,
            "orientation": "horizontal",
            "style": "IPY_MODEL_b60a44e0e5564d6996c48751b5f0127f",
            "value": 10
          }
        },
        "4a3b38097c3a42c6a7dc90f7fc52dd57": {
          "model_module": "@jupyter-widgets/controls",
          "model_name": "HTMLModel",
          "model_module_version": "1.5.0",
          "state": {
            "_dom_classes": [],
            "_model_module": "@jupyter-widgets/controls",
            "_model_module_version": "1.5.0",
            "_model_name": "HTMLModel",
            "_view_count": null,
            "_view_module": "@jupyter-widgets/controls",
            "_view_module_version": "1.5.0",
            "_view_name": "HTMLView",
            "description": "",
            "description_tooltip": null,
            "layout": "IPY_MODEL_73047da2c43e44ebb04a175053c162d2",
            "placeholder": "​",
            "style": "IPY_MODEL_22d3e770021a470d9947ce9f36ffa1f7",
            "value": " 10/10 [05:47&lt;00:00, 16.35s/file]"
          }
        },
        "2642255137c24c4dbd3917791a21dda8": {
          "model_module": "@jupyter-widgets/base",
          "model_name": "LayoutModel",
          "model_module_version": "1.2.0",
          "state": {
            "_model_module": "@jupyter-widgets/base",
            "_model_module_version": "1.2.0",
            "_model_name": "LayoutModel",
            "_view_count": null,
            "_view_module": "@jupyter-widgets/base",
            "_view_module_version": "1.2.0",
            "_view_name": "LayoutView",
            "align_content": null,
            "align_items": null,
            "align_self": null,
            "border": null,
            "bottom": null,
            "display": null,
            "flex": null,
            "flex_flow": null,
            "grid_area": null,
            "grid_auto_columns": null,
            "grid_auto_flow": null,
            "grid_auto_rows": null,
            "grid_column": null,
            "grid_gap": null,
            "grid_row": null,
            "grid_template_areas": null,
            "grid_template_columns": null,
            "grid_template_rows": null,
            "height": null,
            "justify_content": null,
            "justify_items": null,
            "left": null,
            "margin": null,
            "max_height": null,
            "max_width": null,
            "min_height": null,
            "min_width": null,
            "object_fit": null,
            "object_position": null,
            "order": null,
            "overflow": null,
            "overflow_x": null,
            "overflow_y": null,
            "padding": null,
            "right": null,
            "top": null,
            "visibility": null,
            "width": null
          }
        },
        "84b0f8083f3246acbd20aa8c8f9a863a": {
          "model_module": "@jupyter-widgets/base",
          "model_name": "LayoutModel",
          "model_module_version": "1.2.0",
          "state": {
            "_model_module": "@jupyter-widgets/base",
            "_model_module_version": "1.2.0",
            "_model_name": "LayoutModel",
            "_view_count": null,
            "_view_module": "@jupyter-widgets/base",
            "_view_module_version": "1.2.0",
            "_view_name": "LayoutView",
            "align_content": null,
            "align_items": null,
            "align_self": null,
            "border": null,
            "bottom": null,
            "display": null,
            "flex": null,
            "flex_flow": null,
            "grid_area": null,
            "grid_auto_columns": null,
            "grid_auto_flow": null,
            "grid_auto_rows": null,
            "grid_column": null,
            "grid_gap": null,
            "grid_row": null,
            "grid_template_areas": null,
            "grid_template_columns": null,
            "grid_template_rows": null,
            "height": null,
            "justify_content": null,
            "justify_items": null,
            "left": null,
            "margin": null,
            "max_height": null,
            "max_width": null,
            "min_height": null,
            "min_width": null,
            "object_fit": null,
            "object_position": null,
            "order": null,
            "overflow": null,
            "overflow_x": null,
            "overflow_y": null,
            "padding": null,
            "right": null,
            "top": null,
            "visibility": null,
            "width": null
          }
        },
        "d567c1d0b71e486887b25cf91b6a6d89": {
          "model_module": "@jupyter-widgets/controls",
          "model_name": "DescriptionStyleModel",
          "model_module_version": "1.5.0",
          "state": {
            "_model_module": "@jupyter-widgets/controls",
            "_model_module_version": "1.5.0",
            "_model_name": "DescriptionStyleModel",
            "_view_count": null,
            "_view_module": "@jupyter-widgets/base",
            "_view_module_version": "1.2.0",
            "_view_name": "StyleView",
            "description_width": ""
          }
        },
        "997b748767b64d0f9a182fb52fd68371": {
          "model_module": "@jupyter-widgets/base",
          "model_name": "LayoutModel",
          "model_module_version": "1.2.0",
          "state": {
            "_model_module": "@jupyter-widgets/base",
            "_model_module_version": "1.2.0",
            "_model_name": "LayoutModel",
            "_view_count": null,
            "_view_module": "@jupyter-widgets/base",
            "_view_module_version": "1.2.0",
            "_view_name": "LayoutView",
            "align_content": null,
            "align_items": null,
            "align_self": null,
            "border": null,
            "bottom": null,
            "display": null,
            "flex": null,
            "flex_flow": null,
            "grid_area": null,
            "grid_auto_columns": null,
            "grid_auto_flow": null,
            "grid_auto_rows": null,
            "grid_column": null,
            "grid_gap": null,
            "grid_row": null,
            "grid_template_areas": null,
            "grid_template_columns": null,
            "grid_template_rows": null,
            "height": null,
            "justify_content": null,
            "justify_items": null,
            "left": null,
            "margin": null,
            "max_height": null,
            "max_width": null,
            "min_height": null,
            "min_width": null,
            "object_fit": null,
            "object_position": null,
            "order": null,
            "overflow": null,
            "overflow_x": null,
            "overflow_y": null,
            "padding": null,
            "right": null,
            "top": null,
            "visibility": null,
            "width": null
          }
        },
        "b60a44e0e5564d6996c48751b5f0127f": {
          "model_module": "@jupyter-widgets/controls",
          "model_name": "ProgressStyleModel",
          "model_module_version": "1.5.0",
          "state": {
            "_model_module": "@jupyter-widgets/controls",
            "_model_module_version": "1.5.0",
            "_model_name": "ProgressStyleModel",
            "_view_count": null,
            "_view_module": "@jupyter-widgets/base",
            "_view_module_version": "1.2.0",
            "_view_name": "StyleView",
            "bar_color": null,
            "description_width": ""
          }
        },
        "73047da2c43e44ebb04a175053c162d2": {
          "model_module": "@jupyter-widgets/base",
          "model_name": "LayoutModel",
          "model_module_version": "1.2.0",
          "state": {
            "_model_module": "@jupyter-widgets/base",
            "_model_module_version": "1.2.0",
            "_model_name": "LayoutModel",
            "_view_count": null,
            "_view_module": "@jupyter-widgets/base",
            "_view_module_version": "1.2.0",
            "_view_name": "LayoutView",
            "align_content": null,
            "align_items": null,
            "align_self": null,
            "border": null,
            "bottom": null,
            "display": null,
            "flex": null,
            "flex_flow": null,
            "grid_area": null,
            "grid_auto_columns": null,
            "grid_auto_flow": null,
            "grid_auto_rows": null,
            "grid_column": null,
            "grid_gap": null,
            "grid_row": null,
            "grid_template_areas": null,
            "grid_template_columns": null,
            "grid_template_rows": null,
            "height": null,
            "justify_content": null,
            "justify_items": null,
            "left": null,
            "margin": null,
            "max_height": null,
            "max_width": null,
            "min_height": null,
            "min_width": null,
            "object_fit": null,
            "object_position": null,
            "order": null,
            "overflow": null,
            "overflow_x": null,
            "overflow_y": null,
            "padding": null,
            "right": null,
            "top": null,
            "visibility": null,
            "width": null
          }
        },
        "22d3e770021a470d9947ce9f36ffa1f7": {
          "model_module": "@jupyter-widgets/controls",
          "model_name": "DescriptionStyleModel",
          "model_module_version": "1.5.0",
          "state": {
            "_model_module": "@jupyter-widgets/controls",
            "_model_module_version": "1.5.0",
            "_model_name": "DescriptionStyleModel",
            "_view_count": null,
            "_view_module": "@jupyter-widgets/base",
            "_view_module_version": "1.2.0",
            "_view_name": "StyleView",
            "description_width": ""
          }
        }
      }
    }
  },
  "nbformat": 4,
  "nbformat_minor": 5
}