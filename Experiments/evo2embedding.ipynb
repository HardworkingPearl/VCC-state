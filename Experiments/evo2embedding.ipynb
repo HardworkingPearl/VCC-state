{
  "cells": [
    {
      "cell_type": "code",
      "execution_count": 1,
      "id": "f91677bb",
      "metadata": {
        "id": "f91677bb",
        "outputId": "7605753a-e7b8-436e-ee1b-a19123910ebd",
        "colab": {
          "base_uri": "https://localhost:8080/"
        }
      },
      "outputs": [
        {
          "output_type": "stream",
          "name": "stdout",
          "text": [
            "Mounted at /content/drive\n"
          ]
        }
      ],
      "source": [
        "from google.colab import drive\n",
        "drive.mount('/content/drive')"
      ]
    },
    {
      "cell_type": "code",
      "source": [
        "from zipfile import ZipFile\n",
        "from tqdm.auto import tqdm\n",
        "import os\n",
        "%pip install tqdm\n",
        "%pip install anndata\n",
        "\n",
        "google_drive_dataset_dir = \"/content/drive/MyDrive/VCC/datasets/\"\n",
        "dataset_filenames = [\n",
        "    # \"competition_support_set.zip\",\n",
        "    \"vcc_data.zip\"\n",
        "]\n",
        "out_dirs  = [\n",
        "    # \"competition_support_set\",\n",
        "    \"vcc_data\"\n",
        "]\n",
        "\n",
        "for filename, out_dir in zip(dataset_filenames, out_dirs):\n",
        "  output_path = google_drive_dataset_dir + filename\n",
        "  os.makedirs(out_dir, exist_ok=True)\n",
        "\n",
        "  with ZipFile(output_path, 'r') as z:\n",
        "      for member in tqdm(z.infolist(), desc=\"Unzipping\", unit=\"file\"):\n",
        "          z.extract(member, out_dir)\n",
        "!ls vcc_data competition_support_set"
      ],
      "metadata": {
        "id": "mRSG3DhwHSf3",
        "outputId": "f2058f19-54c8-47a0-dcab-fcf5aebb07e3",
        "colab": {
          "base_uri": "https://localhost:8080/",
          "height": 471,
          "referenced_widgets": [
            "e885b5501c70427f9a158e71013e443b",
            "d0edd0b6990b416b906394e79ee4605d",
            "d98eb51aea59430d8316f67c0b84f219",
            "055710267d654ad78343984cc5314f39",
            "6b9f2aa107d4409bb584229d1f3b6f93",
            "a6bae36c14f0423e9307a36d000f4e66",
            "190448b4759e4414936d7c5b23f1f716",
            "0a816cde9a3949aa818cf5edfaa4bbad",
            "ba52eb0a5ac14bf8a2f1f23bd88b3ada",
            "eb265adef63547fe89575d4e118d3775",
            "ef745fad13b941eead3bb695706a4c1f"
          ]
        }
      },
      "id": "mRSG3DhwHSf3",
      "execution_count": 3,
      "outputs": [
        {
          "output_type": "stream",
          "name": "stdout",
          "text": [
            "Requirement already satisfied: tqdm in /usr/local/lib/python3.12/dist-packages (4.67.1)\n",
            "Requirement already satisfied: anndata in /usr/local/lib/python3.12/dist-packages (0.12.3)\n",
            "Requirement already satisfied: array-api-compat>=1.7.1 in /usr/local/lib/python3.12/dist-packages (from anndata) (1.12.0)\n",
            "Requirement already satisfied: h5py>=3.8 in /usr/local/lib/python3.12/dist-packages (from anndata) (3.15.1)\n",
            "Requirement already satisfied: legacy-api-wrap in /usr/local/lib/python3.12/dist-packages (from anndata) (1.4.1)\n",
            "Requirement already satisfied: natsort in /usr/local/lib/python3.12/dist-packages (from anndata) (8.4.0)\n",
            "Requirement already satisfied: numpy>=1.26 in /usr/local/lib/python3.12/dist-packages (from anndata) (2.0.2)\n",
            "Requirement already satisfied: packaging>=24.2 in /usr/local/lib/python3.12/dist-packages (from anndata) (25.0)\n",
            "Requirement already satisfied: pandas!=2.1.2,>=2.1.0 in /usr/local/lib/python3.12/dist-packages (from anndata) (2.2.2)\n",
            "Requirement already satisfied: scipy>=1.12 in /usr/local/lib/python3.12/dist-packages (from anndata) (1.16.2)\n",
            "Requirement already satisfied: zarr!=3.0.*,>=2.18.7 in /usr/local/lib/python3.12/dist-packages (from anndata) (3.1.3)\n",
            "Requirement already satisfied: python-dateutil>=2.8.2 in /usr/local/lib/python3.12/dist-packages (from pandas!=2.1.2,>=2.1.0->anndata) (2.9.0.post0)\n",
            "Requirement already satisfied: pytz>=2020.1 in /usr/local/lib/python3.12/dist-packages (from pandas!=2.1.2,>=2.1.0->anndata) (2025.2)\n",
            "Requirement already satisfied: tzdata>=2022.7 in /usr/local/lib/python3.12/dist-packages (from pandas!=2.1.2,>=2.1.0->anndata) (2025.2)\n",
            "Requirement already satisfied: donfig>=0.8 in /usr/local/lib/python3.12/dist-packages (from zarr!=3.0.*,>=2.18.7->anndata) (0.8.1.post1)\n",
            "Requirement already satisfied: numcodecs>=0.14 in /usr/local/lib/python3.12/dist-packages (from numcodecs[crc32c]>=0.14->zarr!=3.0.*,>=2.18.7->anndata) (0.16.3)\n",
            "Requirement already satisfied: typing-extensions>=4.9 in /usr/local/lib/python3.12/dist-packages (from zarr!=3.0.*,>=2.18.7->anndata) (4.15.0)\n",
            "Requirement already satisfied: pyyaml in /usr/local/lib/python3.12/dist-packages (from donfig>=0.8->zarr!=3.0.*,>=2.18.7->anndata) (6.0.3)\n",
            "Requirement already satisfied: crc32c>=2.7 in /usr/local/lib/python3.12/dist-packages (from numcodecs[crc32c]>=0.14->zarr!=3.0.*,>=2.18.7->anndata) (2.8)\n",
            "Requirement already satisfied: six>=1.5 in /usr/local/lib/python3.12/dist-packages (from python-dateutil>=2.8.2->pandas!=2.1.2,>=2.1.0->anndata) (1.17.0)\n"
          ]
        },
        {
          "output_type": "display_data",
          "data": {
            "text/plain": [
              "Unzipping:   0%|          | 0/4 [00:00<?, ?file/s]"
            ],
            "application/vnd.jupyter.widget-view+json": {
              "version_major": 2,
              "version_minor": 0,
              "model_id": "e885b5501c70427f9a158e71013e443b"
            }
          },
          "metadata": {}
        },
        {
          "output_type": "stream",
          "name": "stdout",
          "text": [
            "competition_train.h5\t       gene_names.csv  k562_gwps.h5  starter.toml\n",
            "competition_val_template.h5ad  hepg2.h5        k562.h5\n",
            "ESM2_pert_features.pt\t       jurkat.h5       rpe1.h5\n"
          ]
        }
      ]
    },
    {
      "cell_type": "code",
      "source": [
        "!ls vcc_data competition_support_set"
      ],
      "metadata": {
        "id": "-RvGppc89rCm",
        "outputId": "b9d4e840-4af4-46d9-d963-8f9e01bfd19c",
        "colab": {
          "base_uri": "https://localhost:8080/"
        }
      },
      "id": "-RvGppc89rCm",
      "execution_count": 7,
      "outputs": [
        {
          "output_type": "stream",
          "name": "stdout",
          "text": [
            "competition_support_set:\n",
            "competition_train.h5\t       gene_names.csv  k562_gwps.h5  starter.toml\n",
            "competition_val_template.h5ad  hepg2.h5        k562.h5\n",
            "ESM2_pert_features.pt\t       jurkat.h5       rpe1.h5\n",
            "\n",
            "vcc_data:\n",
            "adata_Training.h5ad  gene_names.csv  pert_counts_Validation.csv\n"
          ]
        }
      ]
    },
    {
      "cell_type": "code",
      "source": [
        "import h5py\n",
        "import numpy as np\n",
        "filename = \"competition_support_set/k562.h5\"\n",
        "\n",
        "with h5py.File(filename, \"r\") as f:\n",
        "  for key in f.keys():\n",
        "    print(key)\n",
        "    print(np.array(f[key]))"
      ],
      "metadata": {
        "id": "wQMKXs3CCcUM",
        "outputId": "195300bc-e93d-489f-e1b1-dfbb4dbde3bc",
        "colab": {
          "base_uri": "https://localhost:8080/"
        }
      },
      "id": "wQMKXs3CCcUM",
      "execution_count": 8,
      "outputs": [
        {
          "output_type": "stream",
          "name": "stdout",
          "text": [
            "X\n",
            "[[0.        1.7592828 0.        ... 3.7345767 2.7359772 5.5159492]\n",
            " [0.        0.        0.        ... 3.57988   2.033628  5.394437 ]\n",
            " [0.        1.3249131 0.        ... 3.3046005 2.7844076 4.9049053]\n",
            " ...\n",
            " [0.        0.        0.        ... 3.6838982 3.1109695 4.9110603]\n",
            " [0.        0.8855004 0.        ... 3.6001828 2.2560368 5.0871906]\n",
            " [0.        1.5953873 0.        ... 3.0742545 2.1816006 5.0639205]]\n",
            "layers\n",
            "[]\n",
            "obs\n",
            "['UMI_count' 'batch_var' 'cell_barcode' 'cell_type'\n",
            " 'core_adjusted_UMI_count' 'core_scale_factor' 'gem_group' 'gene'\n",
            " 'gene_id' 'gene_transcript' 'mitopercent' 'sgID_AB' 'target_gene'\n",
            " 'transcript' 'z_gemgroup_UMI']\n",
            "obsm\n",
            "[]\n",
            "obsp\n",
            "[]\n",
            "uns\n",
            "[]\n",
            "var\n",
            "['_index']\n",
            "varm\n",
            "[]\n",
            "varp\n",
            "[]\n"
          ]
        }
      ]
    },
    {
      "cell_type": "code",
      "source": [
        "import anndata\n",
        "adata = anndata.read_h5ad(\"vcc_data/adata_Training.h5ad\")\n",
        "adata"
      ],
      "metadata": {
        "id": "UHgDiU6yFscu"
      },
      "id": "UHgDiU6yFscu",
      "execution_count": null,
      "outputs": []
    },
    {
      "cell_type": "code",
      "source": [],
      "metadata": {
        "id": "IIyxiLOaGJ67"
      },
      "id": "IIyxiLOaGJ67",
      "execution_count": null,
      "outputs": []
    }
  ],
  "metadata": {
    "language_info": {
      "name": "python"
    },
    "colab": {
      "provenance": []
    },
    "kernelspec": {
      "name": "python3",
      "display_name": "Python 3"
    },
    "widgets": {
      "application/vnd.jupyter.widget-state+json": {
        "e885b5501c70427f9a158e71013e443b": {
          "model_module": "@jupyter-widgets/controls",
          "model_name": "HBoxModel",
          "model_module_version": "1.5.0",
          "state": {
            "_dom_classes": [],
            "_model_module": "@jupyter-widgets/controls",
            "_model_module_version": "1.5.0",
            "_model_name": "HBoxModel",
            "_view_count": null,
            "_view_module": "@jupyter-widgets/controls",
            "_view_module_version": "1.5.0",
            "_view_name": "HBoxView",
            "box_style": "",
            "children": [
              "IPY_MODEL_d0edd0b6990b416b906394e79ee4605d",
              "IPY_MODEL_d98eb51aea59430d8316f67c0b84f219",
              "IPY_MODEL_055710267d654ad78343984cc5314f39"
            ],
            "layout": "IPY_MODEL_6b9f2aa107d4409bb584229d1f3b6f93"
          }
        },
        "d0edd0b6990b416b906394e79ee4605d": {
          "model_module": "@jupyter-widgets/controls",
          "model_name": "HTMLModel",
          "model_module_version": "1.5.0",
          "state": {
            "_dom_classes": [],
            "_model_module": "@jupyter-widgets/controls",
            "_model_module_version": "1.5.0",
            "_model_name": "HTMLModel",
            "_view_count": null,
            "_view_module": "@jupyter-widgets/controls",
            "_view_module_version": "1.5.0",
            "_view_name": "HTMLView",
            "description": "",
            "description_tooltip": null,
            "layout": "IPY_MODEL_a6bae36c14f0423e9307a36d000f4e66",
            "placeholder": "​",
            "style": "IPY_MODEL_190448b4759e4414936d7c5b23f1f716",
            "value": "Unzipping: 100%"
          }
        },
        "d98eb51aea59430d8316f67c0b84f219": {
          "model_module": "@jupyter-widgets/controls",
          "model_name": "FloatProgressModel",
          "model_module_version": "1.5.0",
          "state": {
            "_dom_classes": [],
            "_model_module": "@jupyter-widgets/controls",
            "_model_module_version": "1.5.0",
            "_model_name": "FloatProgressModel",
            "_view_count": null,
            "_view_module": "@jupyter-widgets/controls",
            "_view_module_version": "1.5.0",
            "_view_name": "ProgressView",
            "bar_style": "success",
            "description": "",
            "description_tooltip": null,
            "layout": "IPY_MODEL_0a816cde9a3949aa818cf5edfaa4bbad",
            "max": 4,
            "min": 0,
            "orientation": "horizontal",
            "style": "IPY_MODEL_ba52eb0a5ac14bf8a2f1f23bd88b3ada",
            "value": 4
          }
        },
        "055710267d654ad78343984cc5314f39": {
          "model_module": "@jupyter-widgets/controls",
          "model_name": "HTMLModel",
          "model_module_version": "1.5.0",
          "state": {
            "_dom_classes": [],
            "_model_module": "@jupyter-widgets/controls",
            "_model_module_version": "1.5.0",
            "_model_name": "HTMLModel",
            "_view_count": null,
            "_view_module": "@jupyter-widgets/controls",
            "_view_module_version": "1.5.0",
            "_view_name": "HTMLView",
            "description": "",
            "description_tooltip": null,
            "layout": "IPY_MODEL_eb265adef63547fe89575d4e118d3775",
            "placeholder": "​",
            "style": "IPY_MODEL_ef745fad13b941eead3bb695706a4c1f",
            "value": " 4/4 [03:16&lt;00:00, 81.77s/file]"
          }
        },
        "6b9f2aa107d4409bb584229d1f3b6f93": {
          "model_module": "@jupyter-widgets/base",
          "model_name": "LayoutModel",
          "model_module_version": "1.2.0",
          "state": {
            "_model_module": "@jupyter-widgets/base",
            "_model_module_version": "1.2.0",
            "_model_name": "LayoutModel",
            "_view_count": null,
            "_view_module": "@jupyter-widgets/base",
            "_view_module_version": "1.2.0",
            "_view_name": "LayoutView",
            "align_content": null,
            "align_items": null,
            "align_self": null,
            "border": null,
            "bottom": null,
            "display": null,
            "flex": null,
            "flex_flow": null,
            "grid_area": null,
            "grid_auto_columns": null,
            "grid_auto_flow": null,
            "grid_auto_rows": null,
            "grid_column": null,
            "grid_gap": null,
            "grid_row": null,
            "grid_template_areas": null,
            "grid_template_columns": null,
            "grid_template_rows": null,
            "height": null,
            "justify_content": null,
            "justify_items": null,
            "left": null,
            "margin": null,
            "max_height": null,
            "max_width": null,
            "min_height": null,
            "min_width": null,
            "object_fit": null,
            "object_position": null,
            "order": null,
            "overflow": null,
            "overflow_x": null,
            "overflow_y": null,
            "padding": null,
            "right": null,
            "top": null,
            "visibility": null,
            "width": null
          }
        },
        "a6bae36c14f0423e9307a36d000f4e66": {
          "model_module": "@jupyter-widgets/base",
          "model_name": "LayoutModel",
          "model_module_version": "1.2.0",
          "state": {
            "_model_module": "@jupyter-widgets/base",
            "_model_module_version": "1.2.0",
            "_model_name": "LayoutModel",
            "_view_count": null,
            "_view_module": "@jupyter-widgets/base",
            "_view_module_version": "1.2.0",
            "_view_name": "LayoutView",
            "align_content": null,
            "align_items": null,
            "align_self": null,
            "border": null,
            "bottom": null,
            "display": null,
            "flex": null,
            "flex_flow": null,
            "grid_area": null,
            "grid_auto_columns": null,
            "grid_auto_flow": null,
            "grid_auto_rows": null,
            "grid_column": null,
            "grid_gap": null,
            "grid_row": null,
            "grid_template_areas": null,
            "grid_template_columns": null,
            "grid_template_rows": null,
            "height": null,
            "justify_content": null,
            "justify_items": null,
            "left": null,
            "margin": null,
            "max_height": null,
            "max_width": null,
            "min_height": null,
            "min_width": null,
            "object_fit": null,
            "object_position": null,
            "order": null,
            "overflow": null,
            "overflow_x": null,
            "overflow_y": null,
            "padding": null,
            "right": null,
            "top": null,
            "visibility": null,
            "width": null
          }
        },
        "190448b4759e4414936d7c5b23f1f716": {
          "model_module": "@jupyter-widgets/controls",
          "model_name": "DescriptionStyleModel",
          "model_module_version": "1.5.0",
          "state": {
            "_model_module": "@jupyter-widgets/controls",
            "_model_module_version": "1.5.0",
            "_model_name": "DescriptionStyleModel",
            "_view_count": null,
            "_view_module": "@jupyter-widgets/base",
            "_view_module_version": "1.2.0",
            "_view_name": "StyleView",
            "description_width": ""
          }
        },
        "0a816cde9a3949aa818cf5edfaa4bbad": {
          "model_module": "@jupyter-widgets/base",
          "model_name": "LayoutModel",
          "model_module_version": "1.2.0",
          "state": {
            "_model_module": "@jupyter-widgets/base",
            "_model_module_version": "1.2.0",
            "_model_name": "LayoutModel",
            "_view_count": null,
            "_view_module": "@jupyter-widgets/base",
            "_view_module_version": "1.2.0",
            "_view_name": "LayoutView",
            "align_content": null,
            "align_items": null,
            "align_self": null,
            "border": null,
            "bottom": null,
            "display": null,
            "flex": null,
            "flex_flow": null,
            "grid_area": null,
            "grid_auto_columns": null,
            "grid_auto_flow": null,
            "grid_auto_rows": null,
            "grid_column": null,
            "grid_gap": null,
            "grid_row": null,
            "grid_template_areas": null,
            "grid_template_columns": null,
            "grid_template_rows": null,
            "height": null,
            "justify_content": null,
            "justify_items": null,
            "left": null,
            "margin": null,
            "max_height": null,
            "max_width": null,
            "min_height": null,
            "min_width": null,
            "object_fit": null,
            "object_position": null,
            "order": null,
            "overflow": null,
            "overflow_x": null,
            "overflow_y": null,
            "padding": null,
            "right": null,
            "top": null,
            "visibility": null,
            "width": null
          }
        },
        "ba52eb0a5ac14bf8a2f1f23bd88b3ada": {
          "model_module": "@jupyter-widgets/controls",
          "model_name": "ProgressStyleModel",
          "model_module_version": "1.5.0",
          "state": {
            "_model_module": "@jupyter-widgets/controls",
            "_model_module_version": "1.5.0",
            "_model_name": "ProgressStyleModel",
            "_view_count": null,
            "_view_module": "@jupyter-widgets/base",
            "_view_module_version": "1.2.0",
            "_view_name": "StyleView",
            "bar_color": null,
            "description_width": ""
          }
        },
        "eb265adef63547fe89575d4e118d3775": {
          "model_module": "@jupyter-widgets/base",
          "model_name": "LayoutModel",
          "model_module_version": "1.2.0",
          "state": {
            "_model_module": "@jupyter-widgets/base",
            "_model_module_version": "1.2.0",
            "_model_name": "LayoutModel",
            "_view_count": null,
            "_view_module": "@jupyter-widgets/base",
            "_view_module_version": "1.2.0",
            "_view_name": "LayoutView",
            "align_content": null,
            "align_items": null,
            "align_self": null,
            "border": null,
            "bottom": null,
            "display": null,
            "flex": null,
            "flex_flow": null,
            "grid_area": null,
            "grid_auto_columns": null,
            "grid_auto_flow": null,
            "grid_auto_rows": null,
            "grid_column": null,
            "grid_gap": null,
            "grid_row": null,
            "grid_template_areas": null,
            "grid_template_columns": null,
            "grid_template_rows": null,
            "height": null,
            "justify_content": null,
            "justify_items": null,
            "left": null,
            "margin": null,
            "max_height": null,
            "max_width": null,
            "min_height": null,
            "min_width": null,
            "object_fit": null,
            "object_position": null,
            "order": null,
            "overflow": null,
            "overflow_x": null,
            "overflow_y": null,
            "padding": null,
            "right": null,
            "top": null,
            "visibility": null,
            "width": null
          }
        },
        "ef745fad13b941eead3bb695706a4c1f": {
          "model_module": "@jupyter-widgets/controls",
          "model_name": "DescriptionStyleModel",
          "model_module_version": "1.5.0",
          "state": {
            "_model_module": "@jupyter-widgets/controls",
            "_model_module_version": "1.5.0",
            "_model_name": "DescriptionStyleModel",
            "_view_count": null,
            "_view_module": "@jupyter-widgets/base",
            "_view_module_version": "1.2.0",
            "_view_name": "StyleView",
            "description_width": ""
          }
        }
      }
    }
  },
  "nbformat": 4,
  "nbformat_minor": 5
}