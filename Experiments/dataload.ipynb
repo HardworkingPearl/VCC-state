{
  "cells": [
    {
      "cell_type": "markdown",
      "metadata": {
        "id": "view-in-github",
        "colab_type": "text"
      },
      "source": [
        "<a href=\"https://colab.research.google.com/github/HardworkingPearl/VCC-state/blob/evo2emb/Experiments/dataload.ipynb\" target=\"_parent\"><img src=\"https://colab.research.google.com/assets/colab-badge.svg\" alt=\"Open In Colab\"/></a>"
      ]
    },
    {
      "cell_type": "markdown",
      "source": [
        "# Dataset"
      ],
      "metadata": {
        "id": "HT9KPm2Tgzue"
      },
      "id": "HT9KPm2Tgzue"
    },
    {
      "cell_type": "code",
      "source": [
        "from google.colab import drive\n",
        "drive.mount('/content/drive')"
      ],
      "metadata": {
        "id": "wjxzG4izg3B0"
      },
      "id": "wjxzG4izg3B0",
      "execution_count": null,
      "outputs": []
    },
    {
      "cell_type": "code",
      "source": [
        "import pandas as pd\n",
        "from pathlib import Path\n",
        "from datetime import datetime\n",
        "from rpy2.robjects import r, globalenv\n",
        "from rpy2.robjects import pandas2ri\n",
        "from rpy2.robjects.conversion import localconverter\n",
        "import numpy as np\n",
        "from scipy.sparse import csc_matrix\n",
        "import anndata as ad\n",
        "import os\n",
        "from tqdm import tqdm\n",
        "\n",
        "raw_dir = \"/content/drive/MyDrive/VCC/datasets\"\n",
        "h5_dir = \"/content/drive/MyDrive/VCC/datasets/h5\""
      ],
      "metadata": {
        "id": "18bd-E6FABxa"
      },
      "id": "18bd-E6FABxa",
      "execution_count": null,
      "outputs": []
    },
    {
      "cell_type": "markdown",
      "source": [
        "### install packages"
      ],
      "metadata": {
        "id": "xa0KbkEb_1Ze"
      },
      "id": "xa0KbkEb_1Ze"
    },
    {
      "cell_type": "code",
      "source": [
        "!pip install pyreadr\n",
        "!pip install tzlocal\n",
        "!pip install anndata\n",
        "!sudo apt-get update -y || apt-get update -y\n",
        "!sudo apt-get install -y build-essential gfortran cmake \\\n",
        "  libxml2-dev libcurl4-openssl-dev libssl-dev \\\n",
        "  libomp-dev libgsl-dev"
      ],
      "metadata": {
        "id": "aVw2CT5moYlf"
      },
      "id": "aVw2CT5moYlf",
      "execution_count": null,
      "outputs": []
    },
    {
      "cell_type": "code",
      "source": [
        "from rpy2.robjects import r\n",
        "r('''\n",
        "options(repos=c(CRAN=\"https://cloud.r-project.org\"))\n",
        "if (!requireNamespace(\"remotes\", quietly=TRUE)) install.packages(\"remotes\")\n",
        "# Install dependencies first to get clearer errors\n",
        "remotes::install_cran(c(\"Matrix\",\"Rcpp\",\"RSpectra\",\"uwot\",\"RcppAnnoy\",\"igraph\"), upgrade=\"never\")\n",
        "remotes::install_github(\"cole-trapnell-lab/monocle3\", upgrade=\"never\", build_vignettes=FALSE)\n",
        "suppressPackageStartupMessages(library(monocle3)); cat(\"loaded monocle3 from GitHub OK\\\\n\")\n",
        "''')\n"
      ],
      "metadata": {
        "id": "2J7YGcw0qeip"
      },
      "id": "2J7YGcw0qeip",
      "execution_count": null,
      "outputs": []
    },
    {
      "cell_type": "markdown",
      "source": [
        "### Read Data and convert to h5ad file"
      ],
      "metadata": {
        "id": "UxitgWqj_4zj"
      },
      "id": "UxitgWqj_4zj"
    },
    {
      "cell_type": "code",
      "source": [
        "def readRDS(file_path):\n",
        "  readRDS = r['readRDS']\n",
        "  cds = readRDS(file_path)\n",
        "  globalenv['cds'] = cds\n",
        "\n",
        "  r('M <- SummarizedExperiment::assay(cds, \"counts\")')\n",
        "  x   = np.array(r('slot(M, \"x\")'))\n",
        "  i   = np.array(r('slot(M, \"i\")'))\n",
        "  p   = np.array(r('slot(M, \"p\")'))\n",
        "  Dim = np.array(r('dim(M)'))\n",
        "\n",
        "  X = csc_matrix((x, i, p), shape=(int(Dim[0]), int(Dim[1])))\n",
        "\n",
        "  # metadata\n",
        "  with localconverter(pandas2ri.converter):\n",
        "      obs = r('as.data.frame(SummarizedExperiment::colData(cds))')\n",
        "      var = r('as.data.frame(SummarizedExperiment::rowData(cds))')\n",
        "\n",
        "  # gene name list\n",
        "  with localconverter(pandas2ri.converter):\n",
        "      obs_names = list(r('as.character(colnames(cds))'))\n",
        "      var_names = list(r('as.character(rownames(cds))'))\n",
        "\n",
        "  obs.index = obs_names\n",
        "  var.index = var_names\n",
        "\n",
        "  return X, obs, var"
      ],
      "metadata": {
        "id": "_sQYKxAwAtKO"
      },
      "id": "_sQYKxAwAtKO",
      "execution_count": null,
      "outputs": []
    },
    {
      "cell_type": "code",
      "source": [
        "def to_h5ad(raw_path, h5_path):\n",
        "  rds_files = [f for f in os.listdir(raw_path) if f.lower().endswith('.rds')]\n",
        "  print(rds_files)\n",
        "  for rds_file in tqdm(rds_files):\n",
        "    file_path = f\"{raw_path}/{rds_file}\"\n",
        "    X, obs, var = readRDS(file_path)\n",
        "    if X.shape[1] == obs.shape[0]:\n",
        "      adata = ad.AnnData(X=X.T, obs=obs, var=var)\n",
        "    else:\n",
        "      adata = ad.AnnData(X=X, obs=obs, var=var)\n",
        "    adata.write_h5ad(f\"{h5_path}/{rds_file[:-4]}.h5ad\", compression=\"gzip\")"
      ],
      "metadata": {
        "id": "Z03t3-OvbJqr"
      },
      "id": "Z03t3-OvbJqr",
      "execution_count": null,
      "outputs": []
    },
    {
      "cell_type": "code",
      "source": [
        "# srivatsam\n",
        "srivatsam_raw_path = f\"{raw_dir}/srivatsam\"\n",
        "srivatsam_h5_dir = f\"{h5_dir}/srivatsam\"\n",
        "\n",
        "to_h5ad(srivatsam_raw_path, srivatsam_h5_dir)"
      ],
      "metadata": {
        "id": "NIdMoJ4lBc1o"
      },
      "id": "NIdMoJ4lBc1o",
      "execution_count": null,
      "outputs": []
    }
  ],
  "metadata": {
    "language_info": {
      "name": "python"
    },
    "colab": {
      "provenance": [],
      "machine_shape": "hm",
      "include_colab_link": true
    },
    "kernelspec": {
      "name": "python3",
      "display_name": "Python 3"
    }
  },
  "nbformat": 4,
  "nbformat_minor": 5
}