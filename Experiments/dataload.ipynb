{
  "cells": [
    {
      "cell_type": "markdown",
      "metadata": {
        "id": "view-in-github",
        "colab_type": "text"
      },
      "source": [
        "<a href=\"https://colab.research.google.com/github/HardworkingPearl/VCC-state/blob/evo2emb/Experiments/dataload.ipynb\" target=\"_parent\"><img src=\"https://colab.research.google.com/assets/colab-badge.svg\" alt=\"Open In Colab\"/></a>"
      ]
    },
    {
      "cell_type": "code",
      "source": [
        "from google.colab import drive\n",
        "drive.mount('/content/drive')"
      ],
      "metadata": {
        "id": "wjxzG4izg3B0",
        "colab": {
          "base_uri": "https://localhost:8080/"
        },
        "outputId": "655045fd-a8cc-414c-a148-f785bfd632cd"
      },
      "id": "wjxzG4izg3B0",
      "execution_count": 1,
      "outputs": [
        {
          "output_type": "stream",
          "name": "stdout",
          "text": [
            "Mounted at /content/drive\n"
          ]
        }
      ]
    },
    {
      "cell_type": "markdown",
      "source": [
        "# install packages"
      ],
      "metadata": {
        "id": "xa0KbkEb_1Ze"
      },
      "id": "xa0KbkEb_1Ze"
    },
    {
      "cell_type": "code",
      "source": [
        "|!pip install pyreadr\n",
        "!pip install tzlocal\n",
        "!pip install anndata\n",
        "!sudo apt-get update -y || apt-get update -y\n",
        "!sudo apt-get install -y build-essential gfortran cmake \\\n",
        "  libxml2-dev libcurl4-openssl-dev libssl-dev \\\n",
        "  libomp-dev libgsl-dev"
      ],
      "metadata": {
        "id": "aVw2CT5moYlf",
        "colab": {
          "base_uri": "https://localhost:8080/"
        },
        "outputId": "3eb1837b-d143-4a18-bd9f-7ff832e8164a"
      },
      "id": "aVw2CT5moYlf",
      "execution_count": 2,
      "outputs": [
        {
          "output_type": "stream",
          "name": "stdout",
          "text": [
            "Collecting pyreadr\n",
            "  Downloading pyreadr-0.5.3-cp312-cp312-manylinux_2_17_x86_64.manylinux2014_x86_64.whl.metadata (1.4 kB)\n",
            "Requirement already satisfied: pandas>=1.2.0 in /usr/local/lib/python3.12/dist-packages (from pyreadr) (2.2.2)\n",
            "Requirement already satisfied: numpy>=1.26.0 in /usr/local/lib/python3.12/dist-packages (from pandas>=1.2.0->pyreadr) (2.0.2)\n",
            "Requirement already satisfied: python-dateutil>=2.8.2 in /usr/local/lib/python3.12/dist-packages (from pandas>=1.2.0->pyreadr) (2.9.0.post0)\n",
            "Requirement already satisfied: pytz>=2020.1 in /usr/local/lib/python3.12/dist-packages (from pandas>=1.2.0->pyreadr) (2025.2)\n",
            "Requirement already satisfied: tzdata>=2022.7 in /usr/local/lib/python3.12/dist-packages (from pandas>=1.2.0->pyreadr) (2025.2)\n",
            "Requirement already satisfied: six>=1.5 in /usr/local/lib/python3.12/dist-packages (from python-dateutil>=2.8.2->pandas>=1.2.0->pyreadr) (1.17.0)\n",
            "Downloading pyreadr-0.5.3-cp312-cp312-manylinux_2_17_x86_64.manylinux2014_x86_64.whl (418 kB)\n",
            "\u001b[2K   \u001b[90m━━━━━━━━━━━━━━━━━━━━━━━━━━━━━━━━━━━━━━━━\u001b[0m \u001b[32m418.3/418.3 kB\u001b[0m \u001b[31m7.2 MB/s\u001b[0m eta \u001b[36m0:00:00\u001b[0m\n",
            "\u001b[?25hInstalling collected packages: pyreadr\n",
            "Successfully installed pyreadr-0.5.3\n",
            "Requirement already satisfied: tzlocal in /usr/local/lib/python3.12/dist-packages (5.3.1)\n",
            "Collecting anndata\n",
            "  Downloading anndata-0.12.4-py3-none-any.whl.metadata (9.9 kB)\n",
            "Collecting array-api-compat>=1.7.1 (from anndata)\n",
            "  Downloading array_api_compat-1.12.0-py3-none-any.whl.metadata (2.5 kB)\n",
            "Requirement already satisfied: h5py>=3.8 in /usr/local/lib/python3.12/dist-packages (from anndata) (3.15.1)\n",
            "Collecting legacy-api-wrap (from anndata)\n",
            "  Downloading legacy_api_wrap-1.4.1-py3-none-any.whl.metadata (2.1 kB)\n",
            "Requirement already satisfied: natsort in /usr/local/lib/python3.12/dist-packages (from anndata) (8.4.0)\n",
            "Requirement already satisfied: numpy>=1.26 in /usr/local/lib/python3.12/dist-packages (from anndata) (2.0.2)\n",
            "Requirement already satisfied: packaging>=24.2 in /usr/local/lib/python3.12/dist-packages (from anndata) (25.0)\n",
            "Requirement already satisfied: pandas!=2.1.2,>=2.1.0 in /usr/local/lib/python3.12/dist-packages (from anndata) (2.2.2)\n",
            "Requirement already satisfied: scipy>=1.12 in /usr/local/lib/python3.12/dist-packages (from anndata) (1.16.2)\n",
            "Collecting zarr!=3.0.*,>=2.18.7 (from anndata)\n",
            "  Downloading zarr-3.1.3-py3-none-any.whl.metadata (10 kB)\n",
            "Requirement already satisfied: python-dateutil>=2.8.2 in /usr/local/lib/python3.12/dist-packages (from pandas!=2.1.2,>=2.1.0->anndata) (2.9.0.post0)\n",
            "Requirement already satisfied: pytz>=2020.1 in /usr/local/lib/python3.12/dist-packages (from pandas!=2.1.2,>=2.1.0->anndata) (2025.2)\n",
            "Requirement already satisfied: tzdata>=2022.7 in /usr/local/lib/python3.12/dist-packages (from pandas!=2.1.2,>=2.1.0->anndata) (2025.2)\n",
            "Collecting donfig>=0.8 (from zarr!=3.0.*,>=2.18.7->anndata)\n",
            "  Downloading donfig-0.8.1.post1-py3-none-any.whl.metadata (5.0 kB)\n",
            "Collecting numcodecs>=0.14 (from numcodecs[crc32c]>=0.14->zarr!=3.0.*,>=2.18.7->anndata)\n",
            "  Downloading numcodecs-0.16.3-cp312-cp312-manylinux_2_17_x86_64.manylinux2014_x86_64.whl.metadata (3.3 kB)\n",
            "Requirement already satisfied: typing-extensions>=4.9 in /usr/local/lib/python3.12/dist-packages (from zarr!=3.0.*,>=2.18.7->anndata) (4.15.0)\n",
            "Requirement already satisfied: pyyaml in /usr/local/lib/python3.12/dist-packages (from donfig>=0.8->zarr!=3.0.*,>=2.18.7->anndata) (6.0.3)\n",
            "Collecting crc32c>=2.7 (from numcodecs[crc32c]>=0.14->zarr!=3.0.*,>=2.18.7->anndata)\n",
            "  Downloading crc32c-2.8-cp312-cp312-manylinux1_x86_64.manylinux_2_28_x86_64.manylinux_2_5_x86_64.whl.metadata (7.8 kB)\n",
            "Requirement already satisfied: six>=1.5 in /usr/local/lib/python3.12/dist-packages (from python-dateutil>=2.8.2->pandas!=2.1.2,>=2.1.0->anndata) (1.17.0)\n",
            "Downloading anndata-0.12.4-py3-none-any.whl (170 kB)\n",
            "\u001b[2K   \u001b[90m━━━━━━━━━━━━━━━━━━━━━━━━━━━━━━━━━━━━━━━━\u001b[0m \u001b[32m170.7/170.7 kB\u001b[0m \u001b[31m3.8 MB/s\u001b[0m eta \u001b[36m0:00:00\u001b[0m\n",
            "\u001b[?25hDownloading array_api_compat-1.12.0-py3-none-any.whl (58 kB)\n",
            "\u001b[2K   \u001b[90m━━━━━━━━━━━━━━━━━━━━━━━━━━━━━━━━━━━━━━━━\u001b[0m \u001b[32m58.2/58.2 kB\u001b[0m \u001b[31m4.6 MB/s\u001b[0m eta \u001b[36m0:00:00\u001b[0m\n",
            "\u001b[?25hDownloading zarr-3.1.3-py3-none-any.whl (276 kB)\n",
            "\u001b[2K   \u001b[90m━━━━━━━━━━━━━━━━━━━━━━━━━━━━━━━━━━━━━━━━\u001b[0m \u001b[32m276.4/276.4 kB\u001b[0m \u001b[31m11.5 MB/s\u001b[0m eta \u001b[36m0:00:00\u001b[0m\n",
            "\u001b[?25hDownloading legacy_api_wrap-1.4.1-py3-none-any.whl (10.0 kB)\n",
            "Downloading donfig-0.8.1.post1-py3-none-any.whl (21 kB)\n",
            "Downloading numcodecs-0.16.3-cp312-cp312-manylinux_2_17_x86_64.manylinux2014_x86_64.whl (8.8 MB)\n",
            "\u001b[2K   \u001b[90m━━━━━━━━━━━━━━━━━━━━━━━━━━━━━━━━━━━━━━━━\u001b[0m \u001b[32m8.8/8.8 MB\u001b[0m \u001b[31m88.9 MB/s\u001b[0m eta \u001b[36m0:00:00\u001b[0m\n",
            "\u001b[?25hDownloading crc32c-2.8-cp312-cp312-manylinux1_x86_64.manylinux_2_28_x86_64.manylinux_2_5_x86_64.whl (80 kB)\n",
            "\u001b[2K   \u001b[90m━━━━━━━━━━━━━━━━━━━━━━━━━━━━━━━━━━━━━━━━\u001b[0m \u001b[32m80.0/80.0 kB\u001b[0m \u001b[31m6.9 MB/s\u001b[0m eta \u001b[36m0:00:00\u001b[0m\n",
            "\u001b[?25hInstalling collected packages: numcodecs, legacy-api-wrap, donfig, crc32c, array-api-compat, zarr, anndata\n",
            "Successfully installed anndata-0.12.4 array-api-compat-1.12.0 crc32c-2.8 donfig-0.8.1.post1 legacy-api-wrap-1.4.1 numcodecs-0.16.3 zarr-3.1.3\n",
            "Hit:1 https://cli.github.com/packages stable InRelease\n",
            "Hit:2 https://developer.download.nvidia.com/compute/cuda/repos/ubuntu2204/x86_64  InRelease\n",
            "Hit:3 http://archive.ubuntu.com/ubuntu jammy InRelease\n",
            "Get:4 https://cloud.r-project.org/bin/linux/ubuntu jammy-cran40/ InRelease [3,632 B]\n",
            "Get:5 http://archive.ubuntu.com/ubuntu jammy-updates InRelease [128 kB]\n",
            "Get:6 http://security.ubuntu.com/ubuntu jammy-security InRelease [129 kB]\n",
            "Get:7 https://r2u.stat.illinois.edu/ubuntu jammy InRelease [6,555 B]\n",
            "Get:8 http://archive.ubuntu.com/ubuntu jammy-backports InRelease [127 kB]\n",
            "Hit:9 https://ppa.launchpadcontent.net/deadsnakes/ppa/ubuntu jammy InRelease\n",
            "Hit:10 https://ppa.launchpadcontent.net/graphics-drivers/ppa/ubuntu jammy InRelease\n",
            "Hit:11 https://ppa.launchpadcontent.net/ubuntugis/ppa/ubuntu jammy InRelease\n",
            "Get:12 https://r2u.stat.illinois.edu/ubuntu jammy/main amd64 Packages [2,817 kB]\n",
            "Get:13 http://archive.ubuntu.com/ubuntu jammy-updates/main amd64 Packages [3,838 kB]\n",
            "Get:14 http://archive.ubuntu.com/ubuntu jammy-updates/universe amd64 Packages [1,594 kB]\n",
            "Get:15 https://r2u.stat.illinois.edu/ubuntu jammy/main all Packages [9,398 kB]\n",
            "Get:16 http://archive.ubuntu.com/ubuntu jammy-updates/restricted amd64 Packages [6,135 kB]\n",
            "Get:17 http://security.ubuntu.com/ubuntu jammy-security/main amd64 Packages [3,479 kB]\n",
            "Get:18 http://security.ubuntu.com/ubuntu jammy-security/universe amd64 Packages [1,288 kB]\n",
            "Fetched 28.9 MB in 2s (11.6 MB/s)\n",
            "Reading package lists... Done\n",
            "W: Skipping acquire of configured file 'main/source/Sources' as repository 'https://r2u.stat.illinois.edu/ubuntu jammy InRelease' does not seem to provide it (sources.list entry misspelt?)\n",
            "Reading package lists... Done\n",
            "Building dependency tree... Done\n",
            "Reading state information... Done\n",
            "build-essential is already the newest version (12.9ubuntu3).\n",
            "gfortran is already the newest version (4:11.2.0-1ubuntu1).\n",
            "cmake is already the newest version (3.22.1-1ubuntu1.22.04.2).\n",
            "libcurl4-openssl-dev is already the newest version (7.81.0-1ubuntu1.21).\n",
            "libssl-dev is already the newest version (3.0.2-0ubuntu1.20).\n",
            "libxml2-dev is already the newest version (2.9.13+dfsg-1ubuntu0.9).\n",
            "The following additional packages will be installed:\n",
            "  libgsl27 libgslcblas0 libomp-14-dev libomp5-14\n",
            "Suggested packages:\n",
            "  gsl-ref-psdoc | gsl-doc-pdf | gsl-doc-info | gsl-ref-html libomp-14-doc\n",
            "The following NEW packages will be installed:\n",
            "  libgsl-dev libgsl27 libgslcblas0 libomp-14-dev libomp-dev libomp5-14\n",
            "0 upgraded, 6 newly installed, 0 to remove and 44 not upgraded.\n",
            "Need to get 3,090 kB of archives.\n",
            "After this operation, 19.8 MB of additional disk space will be used.\n",
            "Get:1 http://archive.ubuntu.com/ubuntu jammy/universe amd64 libgslcblas0 amd64 2.7.1+dfsg-3 [94.4 kB]\n",
            "Get:2 http://archive.ubuntu.com/ubuntu jammy/universe amd64 libgsl27 amd64 2.7.1+dfsg-3 [1,000 kB]\n",
            "Get:3 http://archive.ubuntu.com/ubuntu jammy/universe amd64 libgsl-dev amd64 2.7.1+dfsg-3 [1,257 kB]\n",
            "Get:4 http://archive.ubuntu.com/ubuntu jammy-updates/universe amd64 libomp5-14 amd64 1:14.0.0-1ubuntu1.1 [389 kB]\n",
            "Get:5 http://archive.ubuntu.com/ubuntu jammy-updates/universe amd64 libomp-14-dev amd64 1:14.0.0-1ubuntu1.1 [347 kB]\n",
            "Get:6 http://archive.ubuntu.com/ubuntu jammy/universe amd64 libomp-dev amd64 1:14.0-55~exp2 [3,074 B]\n",
            "Fetched 3,090 kB in 0s (10.4 MB/s)\n",
            "debconf: unable to initialize frontend: Dialog\n",
            "debconf: (No usable dialog-like program is installed, so the dialog based frontend cannot be used. at /usr/share/perl5/Debconf/FrontEnd/Dialog.pm line 78, <> line 6.)\n",
            "debconf: falling back to frontend: Readline\n",
            "debconf: unable to initialize frontend: Readline\n",
            "debconf: (This frontend requires a controlling tty.)\n",
            "debconf: falling back to frontend: Teletype\n",
            "dpkg-preconfigure: unable to re-open stdin: \n",
            "Selecting previously unselected package libgslcblas0:amd64.\n",
            "(Reading database ... 126455 files and directories currently installed.)\n",
            "Preparing to unpack .../0-libgslcblas0_2.7.1+dfsg-3_amd64.deb ...\n",
            "Unpacking libgslcblas0:amd64 (2.7.1+dfsg-3) ...\n",
            "Selecting previously unselected package libgsl27:amd64.\n",
            "Preparing to unpack .../1-libgsl27_2.7.1+dfsg-3_amd64.deb ...\n",
            "Unpacking libgsl27:amd64 (2.7.1+dfsg-3) ...\n",
            "Selecting previously unselected package libgsl-dev.\n",
            "Preparing to unpack .../2-libgsl-dev_2.7.1+dfsg-3_amd64.deb ...\n",
            "Unpacking libgsl-dev (2.7.1+dfsg-3) ...\n",
            "Selecting previously unselected package libomp5-14:amd64.\n",
            "Preparing to unpack .../3-libomp5-14_1%3a14.0.0-1ubuntu1.1_amd64.deb ...\n",
            "Unpacking libomp5-14:amd64 (1:14.0.0-1ubuntu1.1) ...\n",
            "Selecting previously unselected package libomp-14-dev.\n",
            "Preparing to unpack .../4-libomp-14-dev_1%3a14.0.0-1ubuntu1.1_amd64.deb ...\n",
            "Unpacking libomp-14-dev (1:14.0.0-1ubuntu1.1) ...\n",
            "Selecting previously unselected package libomp-dev:amd64.\n",
            "Preparing to unpack .../5-libomp-dev_1%3a14.0-55~exp2_amd64.deb ...\n",
            "Unpacking libomp-dev:amd64 (1:14.0-55~exp2) ...\n",
            "Setting up libomp5-14:amd64 (1:14.0.0-1ubuntu1.1) ...\n",
            "Setting up libgslcblas0:amd64 (2.7.1+dfsg-3) ...\n",
            "Setting up libgsl27:amd64 (2.7.1+dfsg-3) ...\n",
            "Setting up libomp-14-dev (1:14.0.0-1ubuntu1.1) ...\n",
            "Setting up libomp-dev:amd64 (1:14.0-55~exp2) ...\n",
            "Setting up libgsl-dev (2.7.1+dfsg-3) ...\n",
            "Processing triggers for man-db (2.10.2-1) ...\n",
            "Processing triggers for libc-bin (2.35-0ubuntu3.8) ...\n",
            "/sbin/ldconfig.real: /usr/local/lib/libtcm.so.1 is not a symbolic link\n",
            "\n",
            "/sbin/ldconfig.real: /usr/local/lib/libur_adapter_opencl.so.0 is not a symbolic link\n",
            "\n",
            "/sbin/ldconfig.real: /usr/local/lib/libtbb.so.12 is not a symbolic link\n",
            "\n",
            "/sbin/ldconfig.real: /usr/local/lib/libtcm_debug.so.1 is not a symbolic link\n",
            "\n",
            "/sbin/ldconfig.real: /usr/local/lib/libtbbmalloc.so.2 is not a symbolic link\n",
            "\n",
            "/sbin/ldconfig.real: /usr/local/lib/libur_adapter_level_zero.so.0 is not a symbolic link\n",
            "\n",
            "/sbin/ldconfig.real: /usr/local/lib/libtbbbind_2_5.so.3 is not a symbolic link\n",
            "\n",
            "/sbin/ldconfig.real: /usr/local/lib/libhwloc.so.15 is not a symbolic link\n",
            "\n",
            "/sbin/ldconfig.real: /usr/local/lib/libumf.so.1 is not a symbolic link\n",
            "\n",
            "/sbin/ldconfig.real: /usr/local/lib/libtbbbind.so.3 is not a symbolic link\n",
            "\n",
            "/sbin/ldconfig.real: /usr/local/lib/libur_loader.so.0 is not a symbolic link\n",
            "\n",
            "/sbin/ldconfig.real: /usr/local/lib/libtbbbind_2_0.so.3 is not a symbolic link\n",
            "\n",
            "/sbin/ldconfig.real: /usr/local/lib/libtbbmalloc_proxy.so.2 is not a symbolic link\n",
            "\n",
            "/sbin/ldconfig.real: /usr/local/lib/libur_adapter_level_zero_v2.so.0 is not a symbolic link\n",
            "\n"
          ]
        }
      ]
    },
    {
      "cell_type": "markdown",
      "source": [
        "## Install to google drive and Read"
      ],
      "metadata": {
        "id": "xTrYinde6f-z"
      },
      "id": "xTrYinde6f-z"
    },
    {
      "cell_type": "code",
      "source": [
        "R_LIB = \"/content/drive/MyDrive/R\"\n",
        "\n",
        "import os\n",
        "os.makedirs(R_LIB, exist_ok=True)\n",
        "\n",
        "from rpy2.robjects import r\n",
        "\n",
        "r(f'''\n",
        ".libPaths(c(\"{R_LIB.replace(\"\\\\\", \"/\")}\", .libPaths()))\n",
        "\n",
        "Sys.setenv(R_LIBS=\"{R_LIB.replace(\"\\\\\", \"/\")}\")\n",
        "Sys.setenv(R_LIBS_USER=\"{R_LIB.replace(\"\\\\\", \"/\")}\")\n",
        "\n",
        "cat(\"R library paths:\\\\n\"); print(.libPaths()); cat(\"\\\\n\")\n",
        "\n",
        "options(repos=c(CRAN=\"https://cloud.r-project.org\"))\n",
        "\n",
        "if (!requireNamespace(\"remotes\", quietly=TRUE)) install.packages(\"remotes\", lib=.libPaths()[1])\n",
        "\n",
        "pkgs <- c(\"Matrix\",\"Rcpp\",\"RSpectra\",\"uwot\",\"RcppAnnoy\",\"igraph\")\n",
        "to_install <- pkgs[!sapply(pkgs, requireNamespace, quietly=TRUE)]\n",
        "if (length(to_install)) {{\n",
        "  install.packages(to_install, lib=.libPaths()[1], Ncpus=parallel::detectCores())\n",
        "}}\n",
        "\n",
        "remotes::install_github(\"cole-trapnell-lab/monocle3\",\n",
        "                        lib=.libPaths()[1],\n",
        "                        upgrade=\"never\",\n",
        "                        build_vignettes=FALSE)\n",
        "\n",
        "suppressPackageStartupMessages(library(monocle3, lib.loc=.libPaths()[1]))\n",
        "cat(\"loaded monocle3 from GitHub OK\\\\n\")\n",
        "''')"
      ],
      "metadata": {
        "id": "i884OTKC6jng"
      },
      "id": "i884OTKC6jng",
      "execution_count": null,
      "outputs": []
    },
    {
      "cell_type": "code",
      "source": [
        "R_LIB = \"/content/drive/MyDrive/R\"\n",
        "\n",
        "from rpy2.robjects import r\n",
        "r(f'''\n",
        ".libPaths(c(\"{R_LIB.replace(\"\\\\\", \"/\")}\", .libPaths()))\n",
        "suppressPackageStartupMessages(library(monocle3, lib.loc=.libPaths()[1]))\n",
        "cat(\"monocle3 is ready (loaded from Drive)\\\\n\")\n",
        "''')"
      ],
      "metadata": {
        "colab": {
          "base_uri": "https://localhost:8080/"
        },
        "id": "97UZ94Ay6w0P",
        "outputId": "60950b69-8907-402e-c865-e6c1fdab367e"
      },
      "id": "97UZ94Ay6w0P",
      "execution_count": 3,
      "outputs": [
        {
          "output_type": "stream",
          "name": "stdout",
          "text": [
            "monocle3 is ready (loaded from Drive)\n"
          ]
        }
      ]
    },
    {
      "cell_type": "markdown",
      "source": [
        "## Install to tmp location"
      ],
      "metadata": {
        "id": "j0K2V-WF6dCB"
      },
      "id": "j0K2V-WF6dCB"
    },
    {
      "cell_type": "code",
      "source": [
        "from rpy2.robjects import r\n",
        "r('''\n",
        "options(repos=c(CRAN=\"https://cloud.r-project.org\"))\n",
        "if (!requireNamespace(\"remotes\", quietly=TRUE)) install.packages(\"remotes\")\n",
        "# Install dependencies first to get clearer errors\n",
        "remotes::install_cran(c(\"Matrix\",\"Rcpp\",\"RSpectra\",\"uwot\",\"RcppAnnoy\",\"igraph\"), upgrade=\"never\")\n",
        "remotes::install_github(\"cole-trapnell-lab/monocle3\", upgrade=\"never\", build_vignettes=FALSE)\n",
        "suppressPackageStartupMessages(library(monocle3)); cat(\"loaded monocle3 from GitHub OK\\\\n\")\n",
        "''')\n"
      ],
      "metadata": {
        "id": "2J7YGcw0qeip"
      },
      "id": "2J7YGcw0qeip",
      "execution_count": null,
      "outputs": []
    },
    {
      "cell_type": "markdown",
      "source": [
        "# Read Data and convert to h5ad file"
      ],
      "metadata": {
        "id": "UxitgWqj_4zj"
      },
      "id": "UxitgWqj_4zj"
    },
    {
      "cell_type": "code",
      "source": [
        "import pandas as pd\n",
        "from pathlib import Path\n",
        "from datetime import datetime\n",
        "from rpy2.robjects import r, globalenv\n",
        "from rpy2.robjects import pandas2ri\n",
        "from rpy2.robjects.conversion import localconverter\n",
        "import numpy as np\n",
        "from scipy.sparse import csc_matrix\n",
        "import anndata as ad\n",
        "import os\n",
        "from tqdm import tqdm\n",
        "\n",
        "raw_dir = \"/content/drive/MyDrive/VCC/datasets\"\n",
        "h5_dir = \"/content/drive/MyDrive/VCC/datasets/h5\""
      ],
      "metadata": {
        "id": "18bd-E6FABxa"
      },
      "id": "18bd-E6FABxa",
      "execution_count": 4,
      "outputs": []
    },
    {
      "cell_type": "code",
      "source": [
        "def _extract_RDS(cds):\n",
        "  globalenv['cds'] = cds\n",
        "  r('M <- SummarizedExperiment::assay(cds, \"counts\")')\n",
        "  x   = np.array(r('slot(M, \"x\")'))\n",
        "  i   = np.array(r('slot(M, \"i\")'))\n",
        "  p   = np.array(r('slot(M, \"p\")'))\n",
        "  Dim = np.array(r('dim(M)'))\n",
        "\n",
        "  X = csc_matrix((x, i, p), shape=(int(Dim[0]), int(Dim[1])))\n",
        "\n",
        "  # metadata\n",
        "  with localconverter(pandas2ri.converter):\n",
        "      obs = r('as.data.frame(SummarizedExperiment::colData(cds))')\n",
        "      var = r('as.data.frame(SummarizedExperiment::rowData(cds))')\n",
        "\n",
        "  # gene name list\n",
        "  with localconverter(pandas2ri.converter):\n",
        "      obs_names = list(r('as.character(colnames(cds))'))\n",
        "      var_names = list(r('as.character(rownames(cds))'))\n",
        "\n",
        "  obs.index = obs_names\n",
        "  var.index = var_names\n",
        "\n",
        "  return X, obs, var"
      ],
      "metadata": {
        "id": "EtlujxXx5Rum"
      },
      "id": "EtlujxXx5Rum",
      "execution_count": 5,
      "outputs": []
    },
    {
      "cell_type": "markdown",
      "source": [
        "## Srivatsm"
      ],
      "metadata": {
        "id": "cb4caIYi5lWc"
      },
      "id": "cb4caIYi5lWc"
    },
    {
      "cell_type": "code",
      "source": [
        "def readRDS(file_path):\n",
        "  readRDS = r['readRDS']\n",
        "  cds = readRDS(file_path)\n",
        "  return _extract_RDS(cds)"
      ],
      "metadata": {
        "id": "_sQYKxAwAtKO"
      },
      "id": "_sQYKxAwAtKO",
      "execution_count": 6,
      "outputs": []
    },
    {
      "cell_type": "code",
      "source": [
        "def to_h5ad(raw_path, h5_path):\n",
        "  rds_files = [f for f in os.listdir(raw_path) if f.lower().endswith('.rds')]\n",
        "  print(rds_files)\n",
        "  for rds_file in tqdm(rds_files):\n",
        "    file_path = f\"{raw_path}/{rds_file}\"\n",
        "    X, obs, var = readRDS(file_path)\n",
        "    if X.shape[1] == obs.shape[0]:\n",
        "      adata = ad.AnnData(X=X.T, obs=obs, var=var)\n",
        "    else:\n",
        "      adata = ad.AnnData(X=X, obs=obs, var=var)\n",
        "    adata.write_h5ad(f\"{h5_path}/{rds_file[:-4]}.h5ad\", compression=\"gzip\")"
      ],
      "metadata": {
        "id": "Z03t3-OvbJqr"
      },
      "id": "Z03t3-OvbJqr",
      "execution_count": 7,
      "outputs": []
    },
    {
      "cell_type": "code",
      "source": [
        "srivatsam_raw_path = f\"{raw_dir}/srivatsam\"\n",
        "srivatsam_h5_dir = f\"{h5_dir}/srivatsam\"\n",
        "\n",
        "to_h5ad(srivatsam_raw_path, srivatsam_h5_dir)"
      ],
      "metadata": {
        "id": "NIdMoJ4lBc1o",
        "colab": {
          "base_uri": "https://localhost:8080/"
        },
        "outputId": "aa3867bf-3d16-49c9-c6fe-b112865ca2b2"
      },
      "id": "NIdMoJ4lBc1o",
      "execution_count": null,
      "outputs": [
        {
          "output_type": "stream",
          "name": "stdout",
          "text": [
            "['GSM4150376_sciPlex1_cds.RDS', 'GSM4150377_sciPlex2_cds.RDS', 'GSM4150378_sciPlex3_A549_24hrs.RDS', 'GSM4150378_sciPlex3_K562_24hrs.RDS', 'GSM4150379_sciPlex4_hdaci_cds.RDS', 'GSM4150378_sciPlex3_MCF7_24hrs.RDS', 'GSM4150378_sciPlex3_cds_all_cells.RDS']\n"
          ]
        },
        {
          "output_type": "stream",
          "name": "stderr",
          "text": [
            " 86%|████████▌ | 6/7 [07:39<01:51, 111.66s/it]"
          ]
        }
      ]
    },
    {
      "cell_type": "markdown",
      "source": [
        "## mcfaline"
      ],
      "metadata": {
        "id": "U5abxY3f64vk"
      },
      "id": "U5abxY3f64vk"
    },
    {
      "cell_type": "code",
      "source": [
        "def readRDS_cds(file_path):\n",
        "  readRDS = r['readRDS']\n",
        "  base = r\n",
        "  obj = readRDS(file_path)\n",
        "  globalenv['.__r_obj__'] = obj\n",
        "\n",
        "  is_cds = bool(r('inherits(.__r_obj__, \"cell_data_set\")')[0])\n",
        "  is_list = bool(r('is.list(.__r_obj__)')[0])\n",
        "\n",
        "  if is_cds:\n",
        "      return _extract_RDS(obj)\n",
        "\n",
        "  if not is_list:\n",
        "      raise\n",
        "\n",
        "  names = list(map(str, r('names(.__r_obj__)')))\n",
        "  results = {}\n",
        "  for nm in names:\n",
        "      results[nm] = _extract_RDS(obj.rx2(nm))\n",
        "  return results"
      ],
      "metadata": {
        "id": "LDDi7XW-8XyB"
      },
      "id": "LDDi7XW-8XyB",
      "execution_count": null,
      "outputs": []
    },
    {
      "cell_type": "code",
      "source": [
        "mcfaline_raw_path = f\"{raw_dir}/mcfaline\"\n",
        "mcfaline_h5_dir = f\"{h5_dir}/mcfaline\""
      ],
      "metadata": {
        "id": "DTdgeXCD66vN"
      },
      "id": "DTdgeXCD66vN",
      "execution_count": null,
      "outputs": []
    },
    {
      "cell_type": "code",
      "source": [
        "rds_files = [f for f in os.listdir(mcfaline_raw_path) if f.lower().endswith('.rds')]\n",
        "rds_files"
      ],
      "metadata": {
        "id": "cv1MCNRO88lN"
      },
      "id": "cv1MCNRO88lN",
      "execution_count": null,
      "outputs": []
    },
    {
      "cell_type": "code",
      "source": [
        "rds_file = \"\"\n",
        "file_path = f\"{mcfaline_raw_path}/{rds_file}\"\n",
        "readRDS = r['readRDS']\n",
        "obj = readRDS(file_path)\n",
        "globalenv['.__r_obj__'] = obj\n",
        "\n",
        "is_cds = bool(r('inherits(.__r_obj__, \"cell_data_set\")')[0])\n",
        "is_list = bool(r('is.list(.__r_obj__)')[0])"
      ],
      "metadata": {
        "id": "OL4z9xUP8yRQ"
      },
      "id": "OL4z9xUP8yRQ",
      "execution_count": null,
      "outputs": []
    },
    {
      "cell_type": "markdown",
      "source": [
        "### Single dataset"
      ],
      "metadata": {
        "id": "KRW7LOe08p_3"
      },
      "id": "KRW7LOe08p_3"
    },
    {
      "cell_type": "code",
      "source": [
        "X, obs, var = readRDS(file_path)\n",
        "if X.shape[1] == obs.shape[0]:\n",
        "  adata = ad.AnnData(X=X.T, obs=obs, var=var)\n",
        "else:\n",
        "  adata = ad.AnnData(X=X, obs=obs, var=var)\n",
        "adata.write_h5ad(f\"{mcfaline_h5_dir}/{rds_file[:-4]}.h5ad\", compression=\"gzip\")"
      ],
      "metadata": {
        "id": "1eoptcpk8oqx"
      },
      "id": "1eoptcpk8oqx",
      "execution_count": null,
      "outputs": []
    },
    {
      "cell_type": "markdown",
      "source": [
        "### ListVector"
      ],
      "metadata": {
        "id": "Y4agLkbk8r4M"
      },
      "id": "Y4agLkbk8r4M"
    },
    {
      "cell_type": "code",
      "source": [
        "names = list(map(str, r('names(.__r_obj__)')))\n",
        "results = {}\n",
        "for nm in names:\n",
        "    X, obs, var = readRDS(obj.rx2(nm))\n",
        "    if X.shape[1] == obs.shape[0]:\n",
        "      adata = ad.AnnData(X=X.T, obs=obs, var=var)\n",
        "    else:\n",
        "      adata = ad.AnnData(X=X, obs=obs, var=var)\n",
        "    adata.write_h5ad(f\"{mcfaline_h5_dir}/{rds_file[:-4]}_{nm}.h5ad\", compression=\"gzip\")"
      ],
      "metadata": {
        "id": "jN_BvPws8tsN"
      },
      "id": "jN_BvPws8tsN",
      "execution_count": null,
      "outputs": []
    },
    {
      "cell_type": "markdown",
      "source": [
        "### Special Case"
      ],
      "metadata": {
        "id": "3Hx_-YM08uFb"
      },
      "id": "3Hx_-YM08uFb"
    },
    {
      "cell_type": "code",
      "source": [
        "obj"
      ],
      "metadata": {
        "id": "_Mm0AdH_8vSO"
      },
      "id": "_Mm0AdH_8vSO",
      "execution_count": null,
      "outputs": []
    },
    {
      "cell_type": "code",
      "source": [
        "with localconverter(pandas2ri.converter):\n",
        "  df = pd.DataFrame(obj)"
      ],
      "metadata": {
        "id": "qONxqnF6-A2A"
      },
      "id": "qONxqnF6-A2A",
      "execution_count": null,
      "outputs": []
    },
    {
      "cell_type": "code",
      "source": [
        "df.columns = [\"new_cell\", \"gRNA\", \"read_count\", \"umi_count\"]\n",
        "df.to_csv(\"f\"{mcfaline_h5_dir}/{rds_file[:-4]}.txt\", sep=\"\\t\", index=False)"
      ],
      "metadata": {
        "id": "h20kTZaa-MW4"
      },
      "id": "h20kTZaa-MW4",
      "execution_count": null,
      "outputs": []
    }
  ],
  "metadata": {
    "language_info": {
      "name": "python"
    },
    "colab": {
      "provenance": [],
      "machine_shape": "hm",
      "include_colab_link": true
    },
    "kernelspec": {
      "name": "python3",
      "display_name": "Python 3"
    }
  },
  "nbformat": 4,
  "nbformat_minor": 5
}